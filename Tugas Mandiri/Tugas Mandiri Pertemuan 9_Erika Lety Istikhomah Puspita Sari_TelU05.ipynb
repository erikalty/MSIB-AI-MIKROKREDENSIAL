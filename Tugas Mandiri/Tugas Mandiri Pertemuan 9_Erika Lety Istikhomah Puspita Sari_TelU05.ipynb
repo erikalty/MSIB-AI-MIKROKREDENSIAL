{
  "nbformat": 4,
  "nbformat_minor": 5,
  "metadata": {
    "kernelspec": {
      "display_name": "Python 3",
      "language": "python",
      "name": "python3"
    },
    "language_info": {
      "codemirror_mode": {
        "name": "ipython",
        "version": 3
      },
      "file_extension": ".py",
      "mimetype": "text/x-python",
      "name": "python",
      "nbconvert_exporter": "python",
      "pygments_lexer": "ipython3",
      "version": "3.8.8"
    },
    "colab": {
      "name": "Tugas Mandiri",
      "provenance": [],
      "collapsed_sections": []
    }
  },
  "cells": [
    {
      "cell_type": "markdown",
      "metadata": {
        "id": "rwj26ZLxi4W0"
      },
      "source": [
        "## Lembar Jawaban Tugas Mandiri Pertemuan 9\n",
        "\n",
        "\n",
        "Nama  : Erika Lety Istikhomah Puspita Sari\n",
        "\n",
        "Kelas : TelU-005"
      ],
      "id": "rwj26ZLxi4W0"
    },
    {
      "cell_type": "markdown",
      "metadata": {
        "id": "d57d62f8"
      },
      "source": [
        "# Hands-On\n",
        "---\n",
        "\n",
        "Hands-On ini digunakan pada kegiatan Microcredential Associate Data Scientist 2021"
      ],
      "id": "d57d62f8"
    },
    {
      "cell_type": "markdown",
      "metadata": {
        "id": "afcc8ef8"
      },
      "source": [
        "# Pertemuan 9\n",
        "---\n",
        "Pertemuan 9 (sembilan) pada Microcredential Associate Data Scientist 2021 menyampaikan materi mengenai Mengkonstruksi Data"
      ],
      "id": "afcc8ef8"
    },
    {
      "cell_type": "markdown",
      "metadata": {
        "id": "ec93c66e"
      },
      "source": [
        "## Pada Tugas Mandiri Pertemuan 9 \n",
        "\n",
        "#### silakan Anda kerjakan Latihan 1 s/d 10. Output yang anda lihat merupakan panduan yang dapat Anda ikuti dalam penulisan code :)"
      ],
      "id": "ec93c66e"
    },
    {
      "cell_type": "code",
      "metadata": {
        "colab": {
          "base_uri": "https://localhost:8080/"
        },
        "id": "4ZW2_reJ_zKR",
        "outputId": "dd5a844a-2e29-4fb7-dd42-bcc01269d8a3"
      },
      "source": [
        "!pip install feature-engine"
      ],
      "id": "4ZW2_reJ_zKR",
      "execution_count": null,
      "outputs": [
        {
          "output_type": "stream",
          "name": "stdout",
          "text": [
            "Collecting feature-engine\n",
            "  Downloading feature_engine-1.1.2-py2.py3-none-any.whl (180 kB)\n",
            "\u001b[K     |████████████████████████████████| 180 kB 4.2 MB/s \n",
            "\u001b[?25hRequirement already satisfied: scikit-learn>=0.22.2 in /usr/local/lib/python3.7/dist-packages (from feature-engine) (1.0.1)\n",
            "Requirement already satisfied: scipy>=1.4.1 in /usr/local/lib/python3.7/dist-packages (from feature-engine) (1.4.1)\n",
            "Requirement already satisfied: pandas>=1.0.3 in /usr/local/lib/python3.7/dist-packages (from feature-engine) (1.1.5)\n",
            "Collecting statsmodels>=0.11.1\n",
            "  Downloading statsmodels-0.13.1-cp37-cp37m-manylinux_2_17_x86_64.manylinux2014_x86_64.whl (9.8 MB)\n",
            "\u001b[K     |████████████████████████████████| 9.8 MB 55.7 MB/s \n",
            "\u001b[?25hRequirement already satisfied: numpy>=1.18.2 in /usr/local/lib/python3.7/dist-packages (from feature-engine) (1.19.5)\n",
            "Requirement already satisfied: python-dateutil>=2.7.3 in /usr/local/lib/python3.7/dist-packages (from pandas>=1.0.3->feature-engine) (2.8.2)\n",
            "Requirement already satisfied: pytz>=2017.2 in /usr/local/lib/python3.7/dist-packages (from pandas>=1.0.3->feature-engine) (2018.9)\n",
            "Requirement already satisfied: six>=1.5 in /usr/local/lib/python3.7/dist-packages (from python-dateutil>=2.7.3->pandas>=1.0.3->feature-engine) (1.15.0)\n",
            "Requirement already satisfied: threadpoolctl>=2.0.0 in /usr/local/lib/python3.7/dist-packages (from scikit-learn>=0.22.2->feature-engine) (3.0.0)\n",
            "Requirement already satisfied: joblib>=0.11 in /usr/local/lib/python3.7/dist-packages (from scikit-learn>=0.22.2->feature-engine) (1.1.0)\n",
            "Requirement already satisfied: patsy>=0.5.2 in /usr/local/lib/python3.7/dist-packages (from statsmodels>=0.11.1->feature-engine) (0.5.2)\n",
            "Installing collected packages: statsmodels, feature-engine\n",
            "  Attempting uninstall: statsmodels\n",
            "    Found existing installation: statsmodels 0.10.2\n",
            "    Uninstalling statsmodels-0.10.2:\n",
            "      Successfully uninstalled statsmodels-0.10.2\n",
            "Successfully installed feature-engine-1.1.2 statsmodels-0.13.1\n"
          ]
        }
      ]
    },
    {
      "cell_type": "markdown",
      "metadata": {
        "id": "296142b0"
      },
      "source": [
        "# Latihan (1)\n",
        "\n",
        "### Melakukan import library yang dibutuhkan"
      ],
      "id": "296142b0"
    },
    {
      "cell_type": "code",
      "metadata": {
        "id": "12a26b6b"
      },
      "source": [
        "# import library pandas\n",
        "import pandas as pd\n",
        "# Import library scipy\n",
        "import numpy as np\n",
        "# Import library winsorize dari scipy\n",
        "from scipy.stats.mstats import winsorize\n",
        "# Import library trima dari scipy\n",
        "from scipy.stats.mstats import trima\n",
        "# Import library RandomSampleImputer dari feature engine imputation\n",
        "from feature_engine.imputation import RandomSampleImputer\n",
        "# import library StandardScaler dari sklearn\n",
        "from sklearn.preprocessing import StandardScaler\n"
      ],
      "id": "12a26b6b",
      "execution_count": null,
      "outputs": []
    },
    {
      "cell_type": "markdown",
      "metadata": {
        "id": "910ae971"
      },
      "source": [
        "# Latihan (2)\n",
        "\n",
        "### Menghitung nilai null pada dataset :\n",
        "\n",
        "    1. Load dataset Iris_Unclean\n",
        "    2. Tampilkan dataset\n",
        "    3. Hitung jumlah nilai null pada dataset"
      ],
      "id": "910ae971"
    },
    {
      "cell_type": "code",
      "metadata": {
        "id": "8e556b05"
      },
      "source": [
        "# load dataset Iris_Unclean\n",
        "\n",
        "data = pd.read_csv('Iris_unclean.csv')"
      ],
      "id": "8e556b05",
      "execution_count": null,
      "outputs": []
    },
    {
      "cell_type": "code",
      "metadata": {
        "colab": {
          "base_uri": "https://localhost:8080/",
          "height": 423
        },
        "id": "85627815",
        "outputId": "eef9f3bc-50b4-467d-be8a-aef509e2cb13"
      },
      "source": [
        "# tampilkan dataset\n",
        "data"
      ],
      "id": "85627815",
      "execution_count": null,
      "outputs": [
        {
          "output_type": "execute_result",
          "data": {
            "text/html": [
              "<div>\n",
              "<style scoped>\n",
              "    .dataframe tbody tr th:only-of-type {\n",
              "        vertical-align: middle;\n",
              "    }\n",
              "\n",
              "    .dataframe tbody tr th {\n",
              "        vertical-align: top;\n",
              "    }\n",
              "\n",
              "    .dataframe thead th {\n",
              "        text-align: right;\n",
              "    }\n",
              "</style>\n",
              "<table border=\"1\" class=\"dataframe\">\n",
              "  <thead>\n",
              "    <tr style=\"text-align: right;\">\n",
              "      <th></th>\n",
              "      <th>SepalLengthCm</th>\n",
              "      <th>SepalWidthCm</th>\n",
              "      <th>PetalLengthCm</th>\n",
              "      <th>PetalWidthCm</th>\n",
              "      <th>Species</th>\n",
              "    </tr>\n",
              "  </thead>\n",
              "  <tbody>\n",
              "    <tr>\n",
              "      <th>0</th>\n",
              "      <td>NaN</td>\n",
              "      <td>3.5</td>\n",
              "      <td>1.4</td>\n",
              "      <td>0.2</td>\n",
              "      <td>Iris-setosa</td>\n",
              "    </tr>\n",
              "    <tr>\n",
              "      <th>1</th>\n",
              "      <td>4.9</td>\n",
              "      <td>2000.0</td>\n",
              "      <td>1.4</td>\n",
              "      <td>0.2</td>\n",
              "      <td>Iris-setosa</td>\n",
              "    </tr>\n",
              "    <tr>\n",
              "      <th>2</th>\n",
              "      <td>4.7</td>\n",
              "      <td>3.2</td>\n",
              "      <td>-1.3</td>\n",
              "      <td>0.2</td>\n",
              "      <td>Iris-setosa</td>\n",
              "    </tr>\n",
              "    <tr>\n",
              "      <th>3</th>\n",
              "      <td>4.6</td>\n",
              "      <td>3.1</td>\n",
              "      <td>1.5</td>\n",
              "      <td>0.2</td>\n",
              "      <td>Iris-setosa</td>\n",
              "    </tr>\n",
              "    <tr>\n",
              "      <th>4</th>\n",
              "      <td>5.0</td>\n",
              "      <td>3.6</td>\n",
              "      <td>1.4</td>\n",
              "      <td>0.2</td>\n",
              "      <td>Iris-setosa</td>\n",
              "    </tr>\n",
              "    <tr>\n",
              "      <th>...</th>\n",
              "      <td>...</td>\n",
              "      <td>...</td>\n",
              "      <td>...</td>\n",
              "      <td>...</td>\n",
              "      <td>...</td>\n",
              "    </tr>\n",
              "    <tr>\n",
              "      <th>145</th>\n",
              "      <td>6.7</td>\n",
              "      <td>3.0</td>\n",
              "      <td>5.2</td>\n",
              "      <td>2.3</td>\n",
              "      <td>Iris-virginica</td>\n",
              "    </tr>\n",
              "    <tr>\n",
              "      <th>146</th>\n",
              "      <td>6.3</td>\n",
              "      <td>2.5</td>\n",
              "      <td>5.0</td>\n",
              "      <td>1.9</td>\n",
              "      <td>Iris-virginica</td>\n",
              "    </tr>\n",
              "    <tr>\n",
              "      <th>147</th>\n",
              "      <td>6.5</td>\n",
              "      <td>3.0</td>\n",
              "      <td>5.2</td>\n",
              "      <td>2.0</td>\n",
              "      <td>Iris-virginica</td>\n",
              "    </tr>\n",
              "    <tr>\n",
              "      <th>148</th>\n",
              "      <td>6.2</td>\n",
              "      <td>3.4</td>\n",
              "      <td>5.4</td>\n",
              "      <td>2.3</td>\n",
              "      <td>Iris-virginica</td>\n",
              "    </tr>\n",
              "    <tr>\n",
              "      <th>149</th>\n",
              "      <td>5.9</td>\n",
              "      <td>3.0</td>\n",
              "      <td>5.1</td>\n",
              "      <td>1.8</td>\n",
              "      <td>Iris-virginica</td>\n",
              "    </tr>\n",
              "  </tbody>\n",
              "</table>\n",
              "<p>150 rows × 5 columns</p>\n",
              "</div>"
            ],
            "text/plain": [
              "     SepalLengthCm  SepalWidthCm  PetalLengthCm  PetalWidthCm         Species\n",
              "0              NaN           3.5            1.4           0.2     Iris-setosa\n",
              "1              4.9        2000.0            1.4           0.2     Iris-setosa\n",
              "2              4.7           3.2           -1.3           0.2     Iris-setosa\n",
              "3              4.6           3.1            1.5           0.2     Iris-setosa\n",
              "4              5.0           3.6            1.4           0.2     Iris-setosa\n",
              "..             ...           ...            ...           ...             ...\n",
              "145            6.7           3.0            5.2           2.3  Iris-virginica\n",
              "146            6.3           2.5            5.0           1.9  Iris-virginica\n",
              "147            6.5           3.0            5.2           2.0  Iris-virginica\n",
              "148            6.2           3.4            5.4           2.3  Iris-virginica\n",
              "149            5.9           3.0            5.1           1.8  Iris-virginica\n",
              "\n",
              "[150 rows x 5 columns]"
            ]
          },
          "metadata": {},
          "execution_count": 14
        }
      ]
    },
    {
      "cell_type": "code",
      "metadata": {
        "colab": {
          "base_uri": "https://localhost:8080/"
        },
        "id": "f9f84ae7",
        "outputId": "44c99a9d-ef84-4f21-c32a-8f9355b5a475"
      },
      "source": [
        "# hitung jumlah nilai null pada dataset\n",
        "data.isna().sum()"
      ],
      "id": "f9f84ae7",
      "execution_count": null,
      "outputs": [
        {
          "output_type": "execute_result",
          "data": {
            "text/plain": [
              "SepalLengthCm    2\n",
              "SepalWidthCm     0\n",
              "PetalLengthCm    0\n",
              "PetalWidthCm     0\n",
              "Species          0\n",
              "dtype: int64"
            ]
          },
          "metadata": {},
          "execution_count": 18
        }
      ]
    },
    {
      "cell_type": "markdown",
      "metadata": {
        "id": "4fb76245"
      },
      "source": [
        "# Latihan (3)\n",
        "\n",
        "### Melakukan handle missing value dengan Imputasi Mean:\n",
        "\n",
        "     1. Load dataset Iris_Unclean\n",
        "     2. Ambil 10 data teratas \"SepalLengthCm\", kemudian tampilkan\n",
        "     3. Mengganti missing value Imputasi dengan mean, kemudian masukkan ke variable\n",
        "     4. Tampilkan 10 data teratas \"SepalLengthCm\" setelah handle missing value dengan Imputasi mean()"
      ],
      "id": "4fb76245"
    },
    {
      "cell_type": "code",
      "metadata": {
        "id": "d81cbac5"
      },
      "source": [
        "# load dataset Iris_Unclean\n",
        "\n",
        "data = pd.read_csv('Iris_unclean.csv')"
      ],
      "id": "d81cbac5",
      "execution_count": null,
      "outputs": []
    },
    {
      "cell_type": "code",
      "metadata": {
        "colab": {
          "base_uri": "https://localhost:8080/"
        },
        "id": "14a9b64e",
        "outputId": "7f962553-81e0-4c54-a369-67b2b2903e3e"
      },
      "source": [
        "# ambil 10 data teratas SepalLengthCm, kemudian tampilkan\n",
        "\n",
        "df = data.iloc[0:10, 0]\n",
        "df"
      ],
      "id": "14a9b64e",
      "execution_count": null,
      "outputs": [
        {
          "output_type": "execute_result",
          "data": {
            "text/plain": [
              "0    NaN\n",
              "1    4.9\n",
              "2    4.7\n",
              "3    4.6\n",
              "4    5.0\n",
              "5    5.4\n",
              "6    NaN\n",
              "7    5.0\n",
              "8    4.4\n",
              "9    4.9\n",
              "Name: SepalLengthCm, dtype: float64"
            ]
          },
          "metadata": {},
          "execution_count": 30
        }
      ]
    },
    {
      "cell_type": "code",
      "metadata": {
        "id": "7db11cee"
      },
      "source": [
        "# mengganti missing value dengan mean(), kemudian masukkan ke variabel\n",
        "\n",
        "df = df.fillna(df.mean())"
      ],
      "id": "7db11cee",
      "execution_count": null,
      "outputs": []
    },
    {
      "cell_type": "code",
      "metadata": {
        "colab": {
          "base_uri": "https://localhost:8080/"
        },
        "id": "f03740f8",
        "outputId": "96f9f9cf-019f-43cc-9604-e3286f76f003"
      },
      "source": [
        "# tampilkan 10 data teratas SepalLengthCm setelah handle missing value dengan imputasi mean\n",
        "\n",
        "df"
      ],
      "id": "f03740f8",
      "execution_count": null,
      "outputs": [
        {
          "output_type": "execute_result",
          "data": {
            "text/plain": [
              "0    4.8625\n",
              "1    4.9000\n",
              "2    4.7000\n",
              "3    4.6000\n",
              "4    5.0000\n",
              "5    5.4000\n",
              "6    4.8625\n",
              "7    5.0000\n",
              "8    4.4000\n",
              "9    4.9000\n",
              "Name: SepalLengthCm, dtype: float64"
            ]
          },
          "metadata": {},
          "execution_count": 35
        }
      ]
    },
    {
      "cell_type": "markdown",
      "metadata": {
        "id": "ffc520e0"
      },
      "source": [
        "# Latihan (4)\n",
        "\n",
        "### Melakukan handle missing value dengan nilai suka-suka (Arbitrary):\n",
        "\n",
        "     1. Load dataset Iris_Unclean\n",
        "     2. Ambil 10 data teratas \"SepalLengthCm\", kemudian tampilkan\n",
        "     3. Mengganti missing value dengan imputasi nilai suka-suka (Arbitrary), kemudian masukkan ke variable\n",
        "     4. Tampilkan 10 data teratas \"SepalLengthCm\" setelah handle missing value dengan nilai suka-suka "
      ],
      "id": "ffc520e0"
    },
    {
      "cell_type": "code",
      "metadata": {
        "id": "f6d89b20"
      },
      "source": [
        "# load dataset Iris_Unclean\n",
        "\n",
        "data = pd.read_csv('Iris_unclean.csv')"
      ],
      "id": "f6d89b20",
      "execution_count": null,
      "outputs": []
    },
    {
      "cell_type": "code",
      "metadata": {
        "colab": {
          "base_uri": "https://localhost:8080/"
        },
        "id": "41d6177f",
        "outputId": "8ba443b7-9b01-41e5-811d-c81c943b2b4a"
      },
      "source": [
        "# ambil 10 data teratas SepalLengthCm, kemudian tampilkan\n",
        "\n",
        "df = data.iloc[0:10, 0]\n",
        "df"
      ],
      "id": "41d6177f",
      "execution_count": null,
      "outputs": [
        {
          "output_type": "execute_result",
          "data": {
            "text/plain": [
              "0    NaN\n",
              "1    4.9\n",
              "2    4.7\n",
              "3    4.6\n",
              "4    5.0\n",
              "5    5.4\n",
              "6    NaN\n",
              "7    5.0\n",
              "8    4.4\n",
              "9    4.9\n",
              "Name: SepalLengthCm, dtype: float64"
            ]
          },
          "metadata": {},
          "execution_count": 38
        }
      ]
    },
    {
      "cell_type": "code",
      "metadata": {
        "id": "6304b7f6"
      },
      "source": [
        "# melakukan imputasi nilai suka-suka (Arbitrary), masukkan ke dalam variabel\n",
        "\n",
        "df = df.fillna(99)"
      ],
      "id": "6304b7f6",
      "execution_count": null,
      "outputs": []
    },
    {
      "cell_type": "code",
      "metadata": {
        "colab": {
          "base_uri": "https://localhost:8080/"
        },
        "id": "998b1ef5",
        "outputId": "3554f3b0-4128-4b9e-fe55-58847e7e58c1"
      },
      "source": [
        "# tampilkan 10 data teratas SepalLengthCm setelah handle missing value dengan nilai suka-suka (arbitary)\n",
        "\n",
        "df"
      ],
      "id": "998b1ef5",
      "execution_count": null,
      "outputs": [
        {
          "output_type": "execute_result",
          "data": {
            "text/plain": [
              "0    99.0\n",
              "1     4.9\n",
              "2     4.7\n",
              "3     4.6\n",
              "4     5.0\n",
              "5     5.4\n",
              "6    99.0\n",
              "7     5.0\n",
              "8     4.4\n",
              "9     4.9\n",
              "Name: SepalLengthCm, dtype: float64"
            ]
          },
          "metadata": {},
          "execution_count": 40
        }
      ]
    },
    {
      "cell_type": "markdown",
      "metadata": {
        "id": "218f5b1d"
      },
      "source": [
        "# Latihan (5)\n",
        "\n",
        "### Melakukan handle missing value dengan frequent category / modus:\n",
        "\n",
        "     1. Load dataset Iris_Unclean\n",
        "     2. Ambil 10 data teratas \"SepalLengthCm\", kemudian tampilkan\n",
        "     3. Mengganti missing value dengan frequent category / modus\n",
        "     4. Tampilkan hasil imputasi \"SepalLengthCm\" setelah handle dengan frequent category / modus"
      ],
      "id": "218f5b1d"
    },
    {
      "cell_type": "code",
      "metadata": {
        "id": "5f2c9c3d"
      },
      "source": [
        "# load dataset Iris_Unclean\n",
        "data = pd.read_csv('Iris_unclean.csv')"
      ],
      "id": "5f2c9c3d",
      "execution_count": null,
      "outputs": []
    },
    {
      "cell_type": "code",
      "metadata": {
        "colab": {
          "base_uri": "https://localhost:8080/"
        },
        "id": "87430ef7",
        "outputId": "59cc15eb-6e3b-48bc-c362-2a3f4c31ff8f"
      },
      "source": [
        "# tampilkan 10 data teratas kolom SepalLengthCm\n",
        "df = data.iloc[0:10, 0]\n",
        "df"
      ],
      "id": "87430ef7",
      "execution_count": null,
      "outputs": [
        {
          "output_type": "execute_result",
          "data": {
            "text/plain": [
              "0    NaN\n",
              "1    4.9\n",
              "2    4.7\n",
              "3    4.6\n",
              "4    5.0\n",
              "5    5.4\n",
              "6    NaN\n",
              "7    5.0\n",
              "8    4.4\n",
              "9    4.9\n",
              "Name: SepalLengthCm, dtype: float64"
            ]
          },
          "metadata": {},
          "execution_count": 42
        }
      ]
    },
    {
      "cell_type": "code",
      "metadata": {
        "id": "1adaa0e9"
      },
      "source": [
        "# Import SimpleImputer dari sklearn.impute\n",
        "\n",
        "import pandas as pd\n",
        "import numpy as np\n",
        "from sklearn.impute import SimpleImputer\n",
        "\n",
        "# Mengatasi missing value dengan frequent category / modus\n",
        "\n",
        "imp = SimpleImputer(strategy='most_frequent')"
      ],
      "id": "1adaa0e9",
      "execution_count": null,
      "outputs": []
    },
    {
      "cell_type": "code",
      "metadata": {
        "colab": {
          "base_uri": "https://localhost:8080/"
        },
        "id": "b9fd73b1",
        "outputId": "c5e47448-9d9d-40b4-d6be-44be233242e6"
      },
      "source": [
        "# Tampilkan hasil imputasi \"SepalLengthCm\"\n",
        "\n",
        "imp.fit_transform(data[['SepalLengthCm']])"
      ],
      "id": "b9fd73b1",
      "execution_count": null,
      "outputs": [
        {
          "output_type": "execute_result",
          "data": {
            "text/plain": [
              "array([[5. ],\n",
              "       [4.9],\n",
              "       [4.7],\n",
              "       [4.6],\n",
              "       [5. ],\n",
              "       [5.4],\n",
              "       [5. ],\n",
              "       [5. ],\n",
              "       [4.4],\n",
              "       [4.9],\n",
              "       [5.4],\n",
              "       [4.8],\n",
              "       [4.8],\n",
              "       [4.3],\n",
              "       [5.8],\n",
              "       [5.7],\n",
              "       [5.4],\n",
              "       [5.1],\n",
              "       [5.7],\n",
              "       [5.1],\n",
              "       [5.4],\n",
              "       [5.1],\n",
              "       [4.6],\n",
              "       [5.1],\n",
              "       [4.8],\n",
              "       [5. ],\n",
              "       [5. ],\n",
              "       [5.2],\n",
              "       [5.2],\n",
              "       [4.7],\n",
              "       [4.8],\n",
              "       [5.4],\n",
              "       [5.2],\n",
              "       [5.5],\n",
              "       [4.9],\n",
              "       [5. ],\n",
              "       [5.5],\n",
              "       [4.9],\n",
              "       [4.4],\n",
              "       [5.1],\n",
              "       [5. ],\n",
              "       [4.5],\n",
              "       [4.4],\n",
              "       [5. ],\n",
              "       [5.1],\n",
              "       [4.8],\n",
              "       [5.1],\n",
              "       [4.6],\n",
              "       [5.3],\n",
              "       [5. ],\n",
              "       [7. ],\n",
              "       [6.4],\n",
              "       [6.9],\n",
              "       [5.5],\n",
              "       [6.5],\n",
              "       [5.7],\n",
              "       [6.3],\n",
              "       [4.9],\n",
              "       [6.6],\n",
              "       [5.2],\n",
              "       [5. ],\n",
              "       [5.9],\n",
              "       [6. ],\n",
              "       [6.1],\n",
              "       [5.6],\n",
              "       [6.7],\n",
              "       [5.6],\n",
              "       [5.8],\n",
              "       [6.2],\n",
              "       [5.6],\n",
              "       [5.9],\n",
              "       [6.1],\n",
              "       [6.3],\n",
              "       [6.1],\n",
              "       [6.4],\n",
              "       [6.6],\n",
              "       [6.8],\n",
              "       [6.7],\n",
              "       [6. ],\n",
              "       [5.7],\n",
              "       [5.5],\n",
              "       [5.5],\n",
              "       [5.8],\n",
              "       [6. ],\n",
              "       [5.4],\n",
              "       [6. ],\n",
              "       [6.7],\n",
              "       [6.3],\n",
              "       [5.6],\n",
              "       [5.5],\n",
              "       [5.5],\n",
              "       [6.1],\n",
              "       [5.8],\n",
              "       [5. ],\n",
              "       [5.6],\n",
              "       [5.7],\n",
              "       [5.7],\n",
              "       [6.2],\n",
              "       [5.1],\n",
              "       [5.7],\n",
              "       [6.3],\n",
              "       [5.8],\n",
              "       [7.1],\n",
              "       [6.3],\n",
              "       [6.5],\n",
              "       [7.6],\n",
              "       [4.9],\n",
              "       [7.3],\n",
              "       [6.7],\n",
              "       [7.2],\n",
              "       [6.5],\n",
              "       [6.4],\n",
              "       [6.8],\n",
              "       [5.7],\n",
              "       [5.8],\n",
              "       [6.4],\n",
              "       [6.5],\n",
              "       [7.7],\n",
              "       [7.7],\n",
              "       [6. ],\n",
              "       [6.9],\n",
              "       [5.6],\n",
              "       [7.7],\n",
              "       [6.3],\n",
              "       [6.7],\n",
              "       [7.2],\n",
              "       [6.2],\n",
              "       [6.1],\n",
              "       [6.4],\n",
              "       [7.2],\n",
              "       [7.4],\n",
              "       [7.9],\n",
              "       [6.4],\n",
              "       [6.3],\n",
              "       [6.1],\n",
              "       [7.7],\n",
              "       [6.3],\n",
              "       [6.4],\n",
              "       [6. ],\n",
              "       [6.9],\n",
              "       [6.7],\n",
              "       [6.9],\n",
              "       [5.8],\n",
              "       [6.8],\n",
              "       [6.7],\n",
              "       [6.7],\n",
              "       [6.3],\n",
              "       [6.5],\n",
              "       [6.2],\n",
              "       [5.9]])"
            ]
          },
          "metadata": {},
          "execution_count": 44
        }
      ]
    },
    {
      "cell_type": "markdown",
      "metadata": {
        "id": "aa135aae"
      },
      "source": [
        "# Latihan (6)\n",
        "\n",
        "### Melakukan handle missing value dengan Imputasi Random Sample:\n",
        "\n",
        "     1. Load dataset Iris_Unclean\n",
        "     2. Tampilkan 10 data teratas\n",
        "     3. Membuat imputer random sample dengan random state = 5\n",
        "     4. Cocokan imputer ke data\n",
        "     5. Ubah data dengan imputer masukkan ke dalam variable\n",
        "     6. Tampilkan hasil imputasi data \"SepalLengthCm\""
      ],
      "id": "aa135aae"
    },
    {
      "cell_type": "code",
      "metadata": {
        "id": "05ea0bcf"
      },
      "source": [
        "# load dataset Iris_Unclean\n",
        "\n",
        "data = pd.read_csv('Iris_unclean.csv')"
      ],
      "id": "05ea0bcf",
      "execution_count": null,
      "outputs": []
    },
    {
      "cell_type": "code",
      "metadata": {
        "colab": {
          "base_uri": "https://localhost:8080/"
        },
        "id": "8d70788e",
        "outputId": "0ce7c378-465a-4175-a5ef-6a6e1d54d934"
      },
      "source": [
        "# tampilkan 10 data teratas SepalLengthCm\n",
        "\n",
        "df = data.iloc[0:10, 0]\n",
        "df"
      ],
      "id": "8d70788e",
      "execution_count": null,
      "outputs": [
        {
          "output_type": "execute_result",
          "data": {
            "text/plain": [
              "0    NaN\n",
              "1    4.9\n",
              "2    4.7\n",
              "3    4.6\n",
              "4    5.0\n",
              "5    5.4\n",
              "6    NaN\n",
              "7    5.0\n",
              "8    4.4\n",
              "9    4.9\n",
              "Name: SepalLengthCm, dtype: float64"
            ]
          },
          "metadata": {},
          "execution_count": 46
        }
      ]
    },
    {
      "cell_type": "code",
      "metadata": {
        "id": "78cd2a4a"
      },
      "source": [
        "# Membuat imputer random sample dengan random state = 5\n",
        "\n",
        "imputer = RandomSampleImputer(random_state = 5)\n",
        "\n",
        "# Cocokan imputer ke data\n",
        "\n",
        "imputer.fit(data)\n",
        "\n",
        "# Ubah data dengan imputer masukkan ke dalam variable\n",
        "\n",
        "test_t = imputer.transform(data)"
      ],
      "id": "78cd2a4a",
      "execution_count": null,
      "outputs": []
    },
    {
      "cell_type": "code",
      "metadata": {
        "colab": {
          "base_uri": "https://localhost:8080/"
        },
        "id": "c391d5ef",
        "outputId": "06060ce6-12bb-481a-dc3e-a4eca13f0dde"
      },
      "source": [
        "# Tampilkan data hasil imputasi data \"SepalLengthCm\"\n",
        "\n",
        "test_t['SepalLengthCm']"
      ],
      "id": "c391d5ef",
      "execution_count": null,
      "outputs": [
        {
          "output_type": "execute_result",
          "data": {
            "text/plain": [
              "0      5.8\n",
              "1      4.9\n",
              "2      4.7\n",
              "3      4.6\n",
              "4      5.0\n",
              "      ... \n",
              "145    6.7\n",
              "146    6.3\n",
              "147    6.5\n",
              "148    6.2\n",
              "149    5.9\n",
              "Name: SepalLengthCm, Length: 150, dtype: float64"
            ]
          },
          "metadata": {},
          "execution_count": 70
        }
      ]
    },
    {
      "cell_type": "markdown",
      "metadata": {
        "id": "b183faa8"
      },
      "source": [
        "# Latihan (7)\n",
        "\n",
        "### Melakukan Winsorizing\n",
        "\n",
        "    1. Import library winsorize dari scipy\n",
        "    2. Load data Iris_AfterClean\n",
        "    3. Ambil 10 data teratas \"SepalLengthCm\", kemudian masukkan ke dalam variabel datan tampilkan\n",
        "    4. Winsorize data dengan batas nilai terendah 10% dan batas nilai tinggi 20%\n",
        "    5. Tampilkan hasil winsorize"
      ],
      "id": "b183faa8"
    },
    {
      "cell_type": "code",
      "metadata": {
        "id": "1136245b"
      },
      "source": [
        "# Import library scipy\n",
        "\n",
        "import numpy as np\n",
        "from scipy.stats.mstats import winsorize\n",
        "from scipy.stats.mstats import trima"
      ],
      "id": "1136245b",
      "execution_count": null,
      "outputs": []
    },
    {
      "cell_type": "code",
      "metadata": {
        "colab": {
          "base_uri": "https://localhost:8080/"
        },
        "id": "8746ff71",
        "outputId": "63b0d6b8-777f-4281-fa37-44663889f012"
      },
      "source": [
        "# Load data Iris_AfterClean\n",
        "data = pd.read_csv('Iris_AfterClean.csv')\n",
        "\n",
        "# Ambil 10 data teratas \"SepalLengthCm\", kemudian masukkan ke dalam variabel datan tampilkan\n",
        "a = data.iloc[0:10, 0]\n",
        "a"
      ],
      "id": "8746ff71",
      "execution_count": null,
      "outputs": [
        {
          "output_type": "execute_result",
          "data": {
            "text/plain": [
              "0    4.6\n",
              "1    5.0\n",
              "2    5.4\n",
              "3    4.9\n",
              "4    5.4\n",
              "5    4.8\n",
              "6    4.8\n",
              "7    4.3\n",
              "8    5.8\n",
              "9    5.4\n",
              "Name: SepalLengthCm, dtype: float64"
            ]
          },
          "metadata": {},
          "execution_count": 71
        }
      ]
    },
    {
      "cell_type": "code",
      "metadata": {
        "colab": {
          "base_uri": "https://localhost:8080/"
        },
        "id": "9f91f045",
        "outputId": "5c73ef4b-5b6a-4b51-c064-a28b14e38874"
      },
      "source": [
        "# Winsorize data dengan batas nilai terendah 10% dan batas nilai tinggi 20%\n",
        "\n",
        "wins = winsorize(a, limits=[0.1, 0.2])\n",
        "\n",
        "# Tampilkan hasil winsorize\n",
        "print(wins)"
      ],
      "id": "9f91f045",
      "execution_count": null,
      "outputs": [
        {
          "output_type": "stream",
          "name": "stdout",
          "text": [
            "[4.6 5.  5.4 4.9 5.4 4.8 4.8 4.6 5.4 5.4]\n"
          ]
        }
      ]
    },
    {
      "cell_type": "markdown",
      "metadata": {
        "id": "3ddad90b"
      },
      "source": [
        "# Latihan (8)\n",
        "\n",
        "### Melakukan Trimming\n",
        "\n",
        "    1. Import library trima dari scopy\n",
        "    2. Load data Iris_AfterClean\n",
        "    3. Ambil 10 data teratas \"SepalLengthCm\", kemudian masukkan ke dalam variabel datan tampilkan\n",
        "    4. Trimming data dengan batas nilai terendah 2 dan batas nilai tinggi 5\n",
        "    5. Tampilkan hasil trimming"
      ],
      "id": "3ddad90b"
    },
    {
      "cell_type": "code",
      "metadata": {
        "id": "066d7abf"
      },
      "source": [
        "# Import library trima dari scopy\n",
        "\n",
        "import numpy as np\n",
        "from scipy.stats.mstats import winsorize\n",
        "from scipy.stats.mstats import trima"
      ],
      "id": "066d7abf",
      "execution_count": null,
      "outputs": []
    },
    {
      "cell_type": "code",
      "metadata": {
        "colab": {
          "base_uri": "https://localhost:8080/"
        },
        "id": "9ab186a5",
        "outputId": "f1ef1a8a-2379-4163-835a-92bc850744dd"
      },
      "source": [
        "# Load data Iris_AfterClean\n",
        "data = pd.read_csv('Iris_AfterClean.csv')\n",
        "\n",
        "# Ambil 10 data teratas \"SepalLengthCm\", kemudian masukkan ke dalam variabel datan tampilkan\n",
        "a = data.iloc[0:10, 0]\n",
        "a"
      ],
      "id": "9ab186a5",
      "execution_count": null,
      "outputs": [
        {
          "output_type": "execute_result",
          "data": {
            "text/plain": [
              "0    4.6\n",
              "1    5.0\n",
              "2    5.4\n",
              "3    4.9\n",
              "4    5.4\n",
              "5    4.8\n",
              "6    4.8\n",
              "7    4.3\n",
              "8    5.8\n",
              "9    5.4\n",
              "Name: SepalLengthCm, dtype: float64"
            ]
          },
          "metadata": {},
          "execution_count": 74
        }
      ]
    },
    {
      "cell_type": "code",
      "metadata": {
        "colab": {
          "base_uri": "https://localhost:8080/"
        },
        "id": "d0f8a511",
        "outputId": "1c21bc60-f72d-4d64-9bda-c03ab008b889"
      },
      "source": [
        "# Trimming data dengan batas nilai terendah 2 dan batas nilai tinggi 5\n",
        "\n",
        "trima = trima(a, limits=(2,5))\n",
        "\n",
        "# Tampilkan hasil trimming\n",
        "\n",
        "print(trima)"
      ],
      "id": "d0f8a511",
      "execution_count": null,
      "outputs": [
        {
          "output_type": "stream",
          "name": "stdout",
          "text": [
            "[4.6 5.0 -- 4.9 -- 4.8 4.8 4.3 -- --]\n"
          ]
        }
      ]
    },
    {
      "cell_type": "markdown",
      "metadata": {
        "id": "31044298"
      },
      "source": [
        "# Latihan (9)\n",
        "\n",
        "### Melakukan Scaling: Normalisasi\n",
        "\n",
        "    1. Load data Iris_AfterClean \n",
        "    2. Ambil 10 data teratas SepalLengthCm dan SepalWidthCm\n",
        "    3. Menghitung mean data\n",
        "    4. Menghitung max - min pada data\n",
        "    5. Menerapkan transformasi ke data\n",
        "    6. Tampilkan hasil scalling"
      ],
      "id": "31044298"
    },
    {
      "cell_type": "code",
      "metadata": {
        "colab": {
          "base_uri": "https://localhost:8080/",
          "height": 363
        },
        "id": "ab997af5",
        "outputId": "f081e559-bcbe-46bc-887d-83168a962da3"
      },
      "source": [
        "# Load data Iris_AfterClean \n",
        "\n",
        "data = pd.read_csv('Iris_AfterClean.csv')\n",
        "\n",
        "# Ambil 10 data teratas SepalLengthCm dan SepalWidthCm\n",
        "\n",
        "data = data.iloc[0:10, 0:2]\n",
        "data"
      ],
      "id": "ab997af5",
      "execution_count": null,
      "outputs": [
        {
          "output_type": "execute_result",
          "data": {
            "text/html": [
              "<div>\n",
              "<style scoped>\n",
              "    .dataframe tbody tr th:only-of-type {\n",
              "        vertical-align: middle;\n",
              "    }\n",
              "\n",
              "    .dataframe tbody tr th {\n",
              "        vertical-align: top;\n",
              "    }\n",
              "\n",
              "    .dataframe thead th {\n",
              "        text-align: right;\n",
              "    }\n",
              "</style>\n",
              "<table border=\"1\" class=\"dataframe\">\n",
              "  <thead>\n",
              "    <tr style=\"text-align: right;\">\n",
              "      <th></th>\n",
              "      <th>SepalLengthCm</th>\n",
              "      <th>SepalWidthCm</th>\n",
              "    </tr>\n",
              "  </thead>\n",
              "  <tbody>\n",
              "    <tr>\n",
              "      <th>0</th>\n",
              "      <td>4.6</td>\n",
              "      <td>3.1</td>\n",
              "    </tr>\n",
              "    <tr>\n",
              "      <th>1</th>\n",
              "      <td>5.0</td>\n",
              "      <td>3.6</td>\n",
              "    </tr>\n",
              "    <tr>\n",
              "      <th>2</th>\n",
              "      <td>5.4</td>\n",
              "      <td>3.9</td>\n",
              "    </tr>\n",
              "    <tr>\n",
              "      <th>3</th>\n",
              "      <td>4.9</td>\n",
              "      <td>3.1</td>\n",
              "    </tr>\n",
              "    <tr>\n",
              "      <th>4</th>\n",
              "      <td>5.4</td>\n",
              "      <td>3.7</td>\n",
              "    </tr>\n",
              "    <tr>\n",
              "      <th>5</th>\n",
              "      <td>4.8</td>\n",
              "      <td>3.4</td>\n",
              "    </tr>\n",
              "    <tr>\n",
              "      <th>6</th>\n",
              "      <td>4.8</td>\n",
              "      <td>3.0</td>\n",
              "    </tr>\n",
              "    <tr>\n",
              "      <th>7</th>\n",
              "      <td>4.3</td>\n",
              "      <td>3.0</td>\n",
              "    </tr>\n",
              "    <tr>\n",
              "      <th>8</th>\n",
              "      <td>5.8</td>\n",
              "      <td>4.0</td>\n",
              "    </tr>\n",
              "    <tr>\n",
              "      <th>9</th>\n",
              "      <td>5.4</td>\n",
              "      <td>3.9</td>\n",
              "    </tr>\n",
              "  </tbody>\n",
              "</table>\n",
              "</div>"
            ],
            "text/plain": [
              "   SepalLengthCm  SepalWidthCm\n",
              "0            4.6           3.1\n",
              "1            5.0           3.6\n",
              "2            5.4           3.9\n",
              "3            4.9           3.1\n",
              "4            5.4           3.7\n",
              "5            4.8           3.4\n",
              "6            4.8           3.0\n",
              "7            4.3           3.0\n",
              "8            5.8           4.0\n",
              "9            5.4           3.9"
            ]
          },
          "metadata": {},
          "execution_count": 79
        }
      ]
    },
    {
      "cell_type": "code",
      "metadata": {
        "id": "57c8d6de"
      },
      "source": [
        "# Menghitung mean\n",
        "means = data.mean(axis = 0)\n",
        "\n",
        "# menghitung max - min\n",
        "max_min = data.max(axis = 0) - data.min(axis = 0)\n",
        "\n",
        "# menerapkan transformasi ke data\n",
        "train_scaled = (data - means) / max_min"
      ],
      "id": "57c8d6de",
      "execution_count": null,
      "outputs": []
    },
    {
      "cell_type": "code",
      "metadata": {
        "colab": {
          "base_uri": "https://localhost:8080/",
          "height": 363
        },
        "id": "9247b11c",
        "outputId": "0c67a8ff-6394-4a34-adb1-4e125248b49e"
      },
      "source": [
        "# Tampilkan hasil scalling\n",
        "\n",
        "train_scaled"
      ],
      "id": "9247b11c",
      "execution_count": null,
      "outputs": [
        {
          "output_type": "execute_result",
          "data": {
            "text/html": [
              "<div>\n",
              "<style scoped>\n",
              "    .dataframe tbody tr th:only-of-type {\n",
              "        vertical-align: middle;\n",
              "    }\n",
              "\n",
              "    .dataframe tbody tr th {\n",
              "        vertical-align: top;\n",
              "    }\n",
              "\n",
              "    .dataframe thead th {\n",
              "        text-align: right;\n",
              "    }\n",
              "</style>\n",
              "<table border=\"1\" class=\"dataframe\">\n",
              "  <thead>\n",
              "    <tr style=\"text-align: right;\">\n",
              "      <th></th>\n",
              "      <th>SepalLengthCm</th>\n",
              "      <th>SepalWidthCm</th>\n",
              "    </tr>\n",
              "  </thead>\n",
              "  <tbody>\n",
              "    <tr>\n",
              "      <th>0</th>\n",
              "      <td>-0.293333</td>\n",
              "      <td>-0.37</td>\n",
              "    </tr>\n",
              "    <tr>\n",
              "      <th>1</th>\n",
              "      <td>-0.026667</td>\n",
              "      <td>0.13</td>\n",
              "    </tr>\n",
              "    <tr>\n",
              "      <th>2</th>\n",
              "      <td>0.240000</td>\n",
              "      <td>0.43</td>\n",
              "    </tr>\n",
              "    <tr>\n",
              "      <th>3</th>\n",
              "      <td>-0.093333</td>\n",
              "      <td>-0.37</td>\n",
              "    </tr>\n",
              "    <tr>\n",
              "      <th>4</th>\n",
              "      <td>0.240000</td>\n",
              "      <td>0.23</td>\n",
              "    </tr>\n",
              "    <tr>\n",
              "      <th>5</th>\n",
              "      <td>-0.160000</td>\n",
              "      <td>-0.07</td>\n",
              "    </tr>\n",
              "    <tr>\n",
              "      <th>6</th>\n",
              "      <td>-0.160000</td>\n",
              "      <td>-0.47</td>\n",
              "    </tr>\n",
              "    <tr>\n",
              "      <th>7</th>\n",
              "      <td>-0.493333</td>\n",
              "      <td>-0.47</td>\n",
              "    </tr>\n",
              "    <tr>\n",
              "      <th>8</th>\n",
              "      <td>0.506667</td>\n",
              "      <td>0.53</td>\n",
              "    </tr>\n",
              "    <tr>\n",
              "      <th>9</th>\n",
              "      <td>0.240000</td>\n",
              "      <td>0.43</td>\n",
              "    </tr>\n",
              "  </tbody>\n",
              "</table>\n",
              "</div>"
            ],
            "text/plain": [
              "   SepalLengthCm  SepalWidthCm\n",
              "0      -0.293333         -0.37\n",
              "1      -0.026667          0.13\n",
              "2       0.240000          0.43\n",
              "3      -0.093333         -0.37\n",
              "4       0.240000          0.23\n",
              "5      -0.160000         -0.07\n",
              "6      -0.160000         -0.47\n",
              "7      -0.493333         -0.47\n",
              "8       0.506667          0.53\n",
              "9       0.240000          0.43"
            ]
          },
          "metadata": {},
          "execution_count": 81
        }
      ]
    },
    {
      "cell_type": "markdown",
      "metadata": {
        "id": "887be660"
      },
      "source": [
        "# Latihan (10)\n",
        "\n",
        "### Melakukan Scaling: Standardisasi\n",
        "\n",
        "    1. Load data Iris_AfterClean \n",
        "    2. Ambil 10 data teratas SepalLengthCm dan SepalWidthCm\n",
        "    2. Import library StandardScaler dari sklearn\n",
        "    3. Membuat objek scaler\n",
        "    4. Sesuaikan scaler dengan data\n",
        "    5. Mengubah data \n",
        "    6. Tampilkan hasil scalling dengan standarisasi"
      ],
      "id": "887be660"
    },
    {
      "cell_type": "code",
      "metadata": {
        "colab": {
          "base_uri": "https://localhost:8080/",
          "height": 363
        },
        "id": "bf973bbb",
        "outputId": "58e26d1d-488e-4aca-d074-564a71d25c5f"
      },
      "source": [
        "# Load data Iris_AfterClean \n",
        "\n",
        "data = pd.read_csv('Iris_AfterClean.csv')\n",
        "\n",
        "# Ambil 10 data teratas SepalLengthCm dan SepalWidthCm\n",
        "\n",
        "data = data.iloc[0:10, 0:2]\n",
        "data"
      ],
      "id": "bf973bbb",
      "execution_count": null,
      "outputs": [
        {
          "output_type": "execute_result",
          "data": {
            "text/html": [
              "<div>\n",
              "<style scoped>\n",
              "    .dataframe tbody tr th:only-of-type {\n",
              "        vertical-align: middle;\n",
              "    }\n",
              "\n",
              "    .dataframe tbody tr th {\n",
              "        vertical-align: top;\n",
              "    }\n",
              "\n",
              "    .dataframe thead th {\n",
              "        text-align: right;\n",
              "    }\n",
              "</style>\n",
              "<table border=\"1\" class=\"dataframe\">\n",
              "  <thead>\n",
              "    <tr style=\"text-align: right;\">\n",
              "      <th></th>\n",
              "      <th>SepalLengthCm</th>\n",
              "      <th>SepalWidthCm</th>\n",
              "    </tr>\n",
              "  </thead>\n",
              "  <tbody>\n",
              "    <tr>\n",
              "      <th>0</th>\n",
              "      <td>4.6</td>\n",
              "      <td>3.1</td>\n",
              "    </tr>\n",
              "    <tr>\n",
              "      <th>1</th>\n",
              "      <td>5.0</td>\n",
              "      <td>3.6</td>\n",
              "    </tr>\n",
              "    <tr>\n",
              "      <th>2</th>\n",
              "      <td>5.4</td>\n",
              "      <td>3.9</td>\n",
              "    </tr>\n",
              "    <tr>\n",
              "      <th>3</th>\n",
              "      <td>4.9</td>\n",
              "      <td>3.1</td>\n",
              "    </tr>\n",
              "    <tr>\n",
              "      <th>4</th>\n",
              "      <td>5.4</td>\n",
              "      <td>3.7</td>\n",
              "    </tr>\n",
              "    <tr>\n",
              "      <th>5</th>\n",
              "      <td>4.8</td>\n",
              "      <td>3.4</td>\n",
              "    </tr>\n",
              "    <tr>\n",
              "      <th>6</th>\n",
              "      <td>4.8</td>\n",
              "      <td>3.0</td>\n",
              "    </tr>\n",
              "    <tr>\n",
              "      <th>7</th>\n",
              "      <td>4.3</td>\n",
              "      <td>3.0</td>\n",
              "    </tr>\n",
              "    <tr>\n",
              "      <th>8</th>\n",
              "      <td>5.8</td>\n",
              "      <td>4.0</td>\n",
              "    </tr>\n",
              "    <tr>\n",
              "      <th>9</th>\n",
              "      <td>5.4</td>\n",
              "      <td>3.9</td>\n",
              "    </tr>\n",
              "  </tbody>\n",
              "</table>\n",
              "</div>"
            ],
            "text/plain": [
              "   SepalLengthCm  SepalWidthCm\n",
              "0            4.6           3.1\n",
              "1            5.0           3.6\n",
              "2            5.4           3.9\n",
              "3            4.9           3.1\n",
              "4            5.4           3.7\n",
              "5            4.8           3.4\n",
              "6            4.8           3.0\n",
              "7            4.3           3.0\n",
              "8            5.8           4.0\n",
              "9            5.4           3.9"
            ]
          },
          "metadata": {},
          "execution_count": 82
        }
      ]
    },
    {
      "cell_type": "code",
      "metadata": {
        "id": "60dabbd7"
      },
      "source": [
        "# import library StandardScaler dari sklearn\n",
        "import pandas as pd\n",
        "from sklearn.preprocessing import StandardScaler\n",
        "\n",
        "# Buat objek scaler\n",
        "scaler = StandardScaler()\n",
        "\n",
        "# Sesuaikan scaler dengan data\n",
        "scaler.fit(data)\n",
        "\n",
        "# Mengubah data\n",
        "train_scaled = scaler.transform(data)"
      ],
      "id": "60dabbd7",
      "execution_count": null,
      "outputs": []
    },
    {
      "cell_type": "code",
      "metadata": {
        "colab": {
          "base_uri": "https://localhost:8080/"
        },
        "id": "0a689660",
        "outputId": "283d45c8-a3c0-48df-ed6b-853d102a5c4b"
      },
      "source": [
        "# Tampilkan hasil\n",
        "\n",
        "train_scaled"
      ],
      "id": "0a689660",
      "execution_count": null,
      "outputs": [
        {
          "output_type": "execute_result",
          "data": {
            "text/plain": [
              "array([[-1.02464215, -0.97469723],\n",
              "       [-0.09314929,  0.34246119],\n",
              "       [ 0.83834358,  1.13275625],\n",
              "       [-0.3260225 , -0.97469723],\n",
              "       [ 0.83834358,  0.60589288],\n",
              "       [-0.55889572, -0.18440218],\n",
              "       [-0.55889572, -1.23812892],\n",
              "       [-1.7232618 , -1.23812892],\n",
              "       [ 1.76983644,  1.39618793],\n",
              "       [ 0.83834358,  1.13275625]])"
            ]
          },
          "metadata": {},
          "execution_count": 84
        }
      ]
    }
  ]
}